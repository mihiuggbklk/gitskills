{
 "cells": [
  {
   "cell_type": "markdown",
   "metadata": {},
   "source": [
    "### 目标\n",
    "$\\min f_1=x_1^2/4$ \\\n",
    "$\\min f_2=x_1(1-x_2)+5$\\\n",
    "s.t. $\\{ 1\\le x_1 \\le 4 $\\, $1\\le x_2 \\le 2$\\\n",
    "$\\{M,T,p_c,p_m \\} = \\{100,100,0.8,0.01  \\} $\n",
    "\n",
    "\t"
   ]
  },
  {
   "cell_type": "markdown",
   "metadata": {},
   "source": [
    "##### 二进制编码与解码"
   ]
  },
  {
   "cell_type": "code",
   "execution_count": 223,
   "metadata": {},
   "outputs": [],
   "source": [
    "import random\n",
    "import numpy as np\n",
    "import matplotlib.pyplot as plt\n",
    "def encode(x, lower_bound, upper_bound, bits=8):\n",
    "    \"\"\"将实数x编码为长度为bits的二进制字符串，范围在[lower_bound, upper_bound]\"\"\"\n",
    "    max_int = 2**bits - 1\n",
    "    int_value = int((x - lower_bound) / (upper_bound - lower_bound) * max_int)\n",
    "    binary_str = format(int_value, f'0{bits}b')\n",
    "    return binary_str\n",
    "def decode(binary_str, lower_bound, upper_bound, bits=8):\n",
    "    \"\"\"将二进制字符串解码为实数\"\"\"\n",
    "    max_int = 2**bits - 1\n",
    "    int_value = int(binary_str, 2)\n",
    "    return lower_bound + (upper_bound - lower_bound) * int_value / max_int"
   ]
  },
  {
   "cell_type": "markdown",
   "metadata": {},
   "source": [
    "##### 评估函数,使用自身函数值"
   ]
  },
  {
   "cell_type": "code",
   "execution_count": 224,
   "metadata": {},
   "outputs": [],
   "source": [
    "def evaluate(individual):\n",
    "    x1_bin, x2_bin = individual[:8], individual[8:]\n",
    "    x1 = decode(x1_bin, 1, 4)  # 解码x1，范围[1, 4]\n",
    "    x2 = decode(x2_bin, 1, 2)  # 解码x2，范围[1, 2]\n",
    "    f1 = (x1 ** 2) / 4  # 目标函数 f1\n",
    "    f2 = x1 * (1 - x2) + 5  # 目标函数 f2\n",
    "    return f1, f2"
   ]
  },
  {
   "cell_type": "markdown",
   "metadata": {},
   "source": [
    "##### 初始化种群"
   ]
  },
  {
   "cell_type": "code",
   "execution_count": 225,
   "metadata": {},
   "outputs": [],
   "source": [
    "def init_population(pop_size):\n",
    "    population = []\n",
    "    for _ in range(pop_size):\n",
    "        x1 = encode(random.uniform(1, 4), 1, 4)  # 随机生成 x1 的二进制编码\n",
    "        x2 = encode(random.uniform(1, 2), 1, 2)  # 随机生成 x2 的二进制编码\n",
    "        individual = x1 + x2  # 将两个二进制串拼接为一个个体\n",
    "        population.append(individual)\n",
    "    return population"
   ]
  },
  {
   "cell_type": "markdown",
   "metadata": {},
   "source": [
    "##### 单点交叉算子"
   ]
  },
  {
   "cell_type": "code",
   "execution_count": 226,
   "metadata": {},
   "outputs": [],
   "source": [
    "def crossover(parent1, parent2):\n",
    "    point = random.randint(1, len(parent1) - 1)  # 随机选择交叉点\n",
    "    child1 = parent1[:point] + parent2[point:]\n",
    "    child2 = parent2[:point] + parent1[point:]\n",
    "    return child1, child2"
   ]
  },
  {
   "cell_type": "markdown",
   "metadata": {},
   "source": [
    "##### 基本位变异算子"
   ]
  },
  {
   "cell_type": "code",
   "execution_count": 227,
   "metadata": {},
   "outputs": [],
   "source": [
    "def mutate(individual, mutation_rate=0.01):\n",
    "    individual = list(individual)  # 将字符串转为列表以便修改\n",
    "    for i in range(len(individual)):\n",
    "        if random.random() < mutation_rate:\n",
    "            # 基本位变异：反转二进制位\n",
    "            individual[i] = '1' if individual[i] == '0' else '0'\n",
    "    return ''.join(individual)"
   ]
  },
  {
   "cell_type": "markdown",
   "metadata": {},
   "source": [
    "##### Pareto支配判定"
   ]
  },
  {
   "cell_type": "code",
   "execution_count": 228,
   "metadata": {},
   "outputs": [],
   "source": [
    "def dominates(ind1, ind2): # 判断ind1是否优于ind2\n",
    "    f1_1, f1_2 = evaluate(ind1)\n",
    "    f2_1, f2_2 = evaluate(ind2)\n",
    "    return (f1_1 <= f2_1 and f1_2 <= f2_2) and (f1_1 < f2_1 or f1_2 < f2_2)"
   ]
  },
  {
   "cell_type": "markdown",
   "metadata": {},
   "source": [
    "##### Pareto排序"
   ]
  },
  {
   "cell_type": "code",
   "execution_count": 229,
   "metadata": {},
   "outputs": [],
   "source": [
    "def pareto_sort(population):\n",
    "    pareto_front = []\n",
    "    for i, ind1 in enumerate(population):\n",
    "        dominated = False\n",
    "        for j, ind2 in enumerate(population):\n",
    "            if dominates(ind2, ind1):\n",
    "                dominated = True\n",
    "                break\n",
    "        if not dominated:\n",
    "            pareto_front.append(ind1)\n",
    "    return pareto_front\n"
   ]
  },
  {
   "cell_type": "markdown",
   "metadata": {},
   "source": [
    "##### Pareto Individuals"
   ]
  },
  {
   "cell_type": "code",
   "execution_count": 230,
   "metadata": {},
   "outputs": [],
   "source": [
    "def pareto_individuals(population):\n",
    "    pareto_individuals_front = []\n",
    "    while len(population) > 0:\n",
    "        pareto_front = pareto_sort(population)\n",
    "        pareto_individuals_front.extend(pareto_front)\n",
    "        population = [ind for ind in population if ind not in pareto_front]\n",
    "    return pareto_individuals_front\n"
   ]
  },
  {
   "cell_type": "markdown",
   "metadata": {},
   "source": [
    "##### Tournament Sharing Selection"
   ]
  },
  {
   "cell_type": "code",
   "execution_count": 231,
   "metadata": {},
   "outputs": [],
   "source": [
    "def sharing_function(distance, sigma_share):\n",
    "    alpha = 1  # 通常取值为1\n",
    "    if distance < sigma_share:\n",
    "        return 1 - (distance / sigma_share)**alpha\n",
    "    else:\n",
    "        return 0\n",
    "#欧氏距离\n",
    "def distance(ind1, ind2):\n",
    "    return np.sqrt((ind1[0]-ind2[0])**2 + (ind1[1]-ind2[1])**2)\n",
    "# 适应度共享机制\n",
    "def shared_fitness(population, fitnesses, sigma_share):\n",
    "    shared_fitnesses = []\n",
    "    for i in range(len(population)):\n",
    "        sh = 0\n",
    "        for j in range(len(population)):\n",
    "            if i != j:\n",
    "                dist = distance(fitnesses[i], fitnesses[j])\n",
    "                sh += sharing_function(dist, sigma_share)\n",
    "        if sh == 0: sh = 1  # 防止除零\n",
    "        shared_fitnesses.append(fitnesses[i][0] + fitnesses[i][1] / sh)\n",
    "    return shared_fitnesses\n",
    "    \n",
    "  \n",
    "# # Tournament Sharing Selection\n",
    "# def ts_selection(population,tournament_size):\n",
    "#     # 从群体中选择k个体进行锦标赛\n",
    "#   C = random.sample(population, tournament_size)\n",
    "#   # 从群体中选择2个体组成T\n",
    "#   T = random.sample(population, 2)\n",
    "#   # 选择适应度最高的个体\n",
    "#   dominated1= False\n",
    "#   dominated2 = False\n",
    "#   for i in range(tournament_size):\n",
    "#     if dominates(T[0], C[i]):\n",
    "#       dominated1 = True\n",
    "#       break\n",
    "#   for i in range(tournament_size):\n",
    "#     if dominates(T[1], C[i]):\n",
    "#       dominated2 = True\n",
    "#       break\n",
    "\n",
    "#   if dominated1 and (not dominated2):\n",
    "#     return T[1]\n",
    "#   elif (not dominated1) and dominated2:\n",
    "#     return T[0]\n",
    "#   else:\n",
    "#     NC1=sum(sharing_function(hamming_distance(T[0],ind),0.5) for ind in C)\n",
    "#     NC2=sum(sharing_function(hamming_distance(T[1],ind),0.5) for ind in C)\n",
    "#     if NC1<NC2:\n",
    "#       return T[0]\n",
    "#     else:\n",
    "#       return T[1]\n",
    "\n",
    "    \n",
    "  \n",
    "\n",
    "\n",
    "\n"
   ]
  },
  {
   "cell_type": "markdown",
   "metadata": {},
   "source": [
    "##### 轮盘赌选择基于Pareto排序的个体"
   ]
  },
  {
   "cell_type": "code",
   "execution_count": 232,
   "metadata": {},
   "outputs": [],
   "source": [
    "def select(population, num_to_select):\n",
    "    selected = []\n",
    "    pareto_front = pareto_sort(population)\n",
    "    while len(selected) < num_to_select:\n",
    "        selected.append(random.choice(pareto_front))\n",
    "    return selected\n"
   ]
  },
  {
   "cell_type": "markdown",
   "metadata": {},
   "source": [
    "##### 可视化Pareto前沿解"
   ]
  },
  {
   "cell_type": "code",
   "execution_count": 233,
   "metadata": {},
   "outputs": [],
   "source": [
    "def plot_pareto_front(pareto_front):\n",
    "    f1_vals, f2_vals = [], []\n",
    "    for ind in pareto_front:\n",
    "        f1, f2 = evaluate(ind)\n",
    "        f1_vals.append(f1)\n",
    "        f2_vals.append(f2)\n",
    "\n",
    "    plt.scatter(f1_vals, f2_vals, color='blue', label='Pareto front')\n",
    "    plt.title('Sharing Pareto front')\n",
    "    plt.xlim(0, 5)\n",
    "    plt.ylim(0, 5)\n",
    "    plt.xlabel('f1')\n",
    "    plt.ylabel('f2')\n",
    "    plt.legend()\n",
    "    plt.grid(True)\n",
    "    plt.savefig('sharing.eps', format='eps')\n",
    "    plt.show()"
   ]
  },
  {
   "cell_type": "markdown",
   "metadata": {},
   "source": [
    "##### 主算法"
   ]
  },
  {
   "cell_type": "code",
   "execution_count": 234,
   "metadata": {},
   "outputs": [
    {
     "name": "stderr",
     "output_type": "stream",
     "text": [
      "The PostScript backend does not support transparency; partially transparent artists will be rendered opaque.\n"
     ]
    },
    {
     "name": "stdout",
     "output_type": "stream",
     "text": [
      "\n",
      "Final Pareto front solutions:\n",
      "Solution: 0000000001100100, Objectives: (0.25, 4.607843137254902)\n",
      "Solution: 0000000001100100, Objectives: (0.25, 4.607843137254902)\n",
      "Solution: 0000000001100100, Objectives: (0.25, 4.607843137254902)\n",
      "Solution: 0000000001100100, Objectives: (0.25, 4.607843137254902)\n",
      "Solution: 0000000001100100, Objectives: (0.25, 4.607843137254902)\n",
      "Solution: 0000000001100100, Objectives: (0.25, 4.607843137254902)\n",
      "Solution: 0000000001100100, Objectives: (0.25, 4.607843137254902)\n",
      "Solution: 0000000001100100, Objectives: (0.25, 4.607843137254902)\n",
      "Solution: 0000000001100100, Objectives: (0.25, 4.607843137254902)\n",
      "Solution: 0000000001100100, Objectives: (0.25, 4.607843137254902)\n",
      "Solution: 0000000001100100, Objectives: (0.25, 4.607843137254902)\n",
      "Solution: 0000000001100100, Objectives: (0.25, 4.607843137254902)\n",
      "Solution: 0000000001100100, Objectives: (0.25, 4.607843137254902)\n",
      "Solution: 0000000001100100, Objectives: (0.25, 4.607843137254902)\n",
      "Solution: 0000000001100100, Objectives: (0.25, 4.607843137254902)\n",
      "Solution: 0000000001100100, Objectives: (0.25, 4.607843137254902)\n",
      "Solution: 0000000001100100, Objectives: (0.25, 4.607843137254902)\n",
      "Solution: 0000000001100100, Objectives: (0.25, 4.607843137254902)\n",
      "Solution: 0000000001100100, Objectives: (0.25, 4.607843137254902)\n",
      "Solution: 0000000001100100, Objectives: (0.25, 4.607843137254902)\n",
      "Solution: 0000000001100100, Objectives: (0.25, 4.607843137254902)\n",
      "Solution: 0000000001100100, Objectives: (0.25, 4.607843137254902)\n",
      "Solution: 0000000001100100, Objectives: (0.25, 4.607843137254902)\n",
      "Solution: 0000000001100100, Objectives: (0.25, 4.607843137254902)\n",
      "Solution: 0000000001100100, Objectives: (0.25, 4.607843137254902)\n",
      "Solution: 0000000001100100, Objectives: (0.25, 4.607843137254902)\n",
      "Solution: 0000000001100100, Objectives: (0.25, 4.607843137254902)\n",
      "Solution: 0000000001100100, Objectives: (0.25, 4.607843137254902)\n",
      "Solution: 0000000001100100, Objectives: (0.25, 4.607843137254902)\n",
      "Solution: 0000000001100100, Objectives: (0.25, 4.607843137254902)\n",
      "Solution: 0000000001100100, Objectives: (0.25, 4.607843137254902)\n",
      "Solution: 0000000001100100, Objectives: (0.25, 4.607843137254902)\n",
      "Solution: 0000000001100100, Objectives: (0.25, 4.607843137254902)\n",
      "Solution: 0000000001100100, Objectives: (0.25, 4.607843137254902)\n",
      "Solution: 0000000001100100, Objectives: (0.25, 4.607843137254902)\n",
      "Solution: 0000000001100100, Objectives: (0.25, 4.607843137254902)\n",
      "Solution: 0000000001100100, Objectives: (0.25, 4.607843137254902)\n",
      "Solution: 0000000001100100, Objectives: (0.25, 4.607843137254902)\n",
      "Solution: 0000000001100100, Objectives: (0.25, 4.607843137254902)\n",
      "Solution: 0000000001100100, Objectives: (0.25, 4.607843137254902)\n",
      "Solution: 0000000001100100, Objectives: (0.25, 4.607843137254902)\n",
      "Solution: 0000000001100100, Objectives: (0.25, 4.607843137254902)\n",
      "Solution: 0000000001100100, Objectives: (0.25, 4.607843137254902)\n",
      "Solution: 0000000001100100, Objectives: (0.25, 4.607843137254902)\n",
      "Solution: 0000000001100100, Objectives: (0.25, 4.607843137254902)\n",
      "Solution: 0000000001100100, Objectives: (0.25, 4.607843137254902)\n",
      "Solution: 0000000001100100, Objectives: (0.25, 4.607843137254902)\n",
      "Solution: 0000000001100100, Objectives: (0.25, 4.607843137254902)\n",
      "Solution: 0000000001100100, Objectives: (0.25, 4.607843137254902)\n",
      "Solution: 0000000001100100, Objectives: (0.25, 4.607843137254902)\n",
      "Solution: 0000001001110100, Objectives: (0.2619031141868512, 4.53439446366782)\n",
      "Solution: 0000000001100100, Objectives: (0.25, 4.607843137254902)\n",
      "Solution: 0000000001100100, Objectives: (0.25, 4.607843137254902)\n",
      "Solution: 0000000001100100, Objectives: (0.25, 4.607843137254902)\n",
      "Solution: 0000000001100100, Objectives: (0.25, 4.607843137254902)\n",
      "Solution: 0000000001100100, Objectives: (0.25, 4.607843137254902)\n",
      "Solution: 0000000001100100, Objectives: (0.25, 4.607843137254902)\n",
      "Solution: 0000000001100100, Objectives: (0.25, 4.607843137254902)\n",
      "Solution: 0000000001100100, Objectives: (0.25, 4.607843137254902)\n",
      "Solution: 0000000001100100, Objectives: (0.25, 4.607843137254902)\n",
      "Solution: 0000000001100100, Objectives: (0.25, 4.607843137254902)\n",
      "Solution: 0000000001100100, Objectives: (0.25, 4.607843137254902)\n",
      "Solution: 0000000001100100, Objectives: (0.25, 4.607843137254902)\n",
      "Solution: 0000000001100100, Objectives: (0.25, 4.607843137254902)\n",
      "Solution: 1000000001100100, Objectives: (1.5698615916955017, 4.017301038062284)\n",
      "Solution: 0000000001100100, Objectives: (0.25, 4.607843137254902)\n",
      "Solution: 0000000001100100, Objectives: (0.25, 4.607843137254902)\n",
      "Solution: 0000000001100100, Objectives: (0.25, 4.607843137254902)\n",
      "Solution: 0000000001100100, Objectives: (0.25, 4.607843137254902)\n",
      "Solution: 0000000001100100, Objectives: (0.25, 4.607843137254902)\n",
      "Solution: 0000000001100100, Objectives: (0.25, 4.607843137254902)\n",
      "Solution: 0000000001100100, Objectives: (0.25, 4.607843137254902)\n",
      "Solution: 0000000001100100, Objectives: (0.25, 4.607843137254902)\n",
      "Solution: 0000000001100100, Objectives: (0.25, 4.607843137254902)\n",
      "Solution: 0000000001100100, Objectives: (0.25, 4.607843137254902)\n",
      "Solution: 0000000001100100, Objectives: (0.25, 4.607843137254902)\n",
      "Solution: 0000000001100100, Objectives: (0.25, 4.607843137254902)\n",
      "Solution: 0000000001100100, Objectives: (0.25, 4.607843137254902)\n",
      "Solution: 0000000001100100, Objectives: (0.25, 4.607843137254902)\n",
      "Solution: 0000000001100100, Objectives: (0.25, 4.607843137254902)\n",
      "Solution: 0000000001100100, Objectives: (0.25, 4.607843137254902)\n",
      "Solution: 0000000001100100, Objectives: (0.25, 4.607843137254902)\n",
      "Solution: 0000000001100100, Objectives: (0.25, 4.607843137254902)\n",
      "Solution: 0000000001100100, Objectives: (0.25, 4.607843137254902)\n",
      "Solution: 0000000001100100, Objectives: (0.25, 4.607843137254902)\n",
      "Solution: 0000000001100100, Objectives: (0.25, 4.607843137254902)\n",
      "Solution: 0000000001100100, Objectives: (0.25, 4.607843137254902)\n",
      "Solution: 0000000001100100, Objectives: (0.25, 4.607843137254902)\n",
      "Solution: 0000000001100100, Objectives: (0.25, 4.607843137254902)\n",
      "Solution: 0000000001100100, Objectives: (0.25, 4.607843137254902)\n",
      "Solution: 0000000001100100, Objectives: (0.25, 4.607843137254902)\n",
      "Solution: 0000000001100100, Objectives: (0.25, 4.607843137254902)\n",
      "Solution: 0000000001100100, Objectives: (0.25, 4.607843137254902)\n",
      "Solution: 0000000001100100, Objectives: (0.25, 4.607843137254902)\n",
      "Solution: 0000000001100100, Objectives: (0.25, 4.607843137254902)\n",
      "Solution: 0000000001100100, Objectives: (0.25, 4.607843137254902)\n",
      "Solution: 0000000001100100, Objectives: (0.25, 4.607843137254902)\n",
      "Solution: 0000000001100100, Objectives: (0.25, 4.607843137254902)\n",
      "Solution: 0000000001100100, Objectives: (0.25, 4.607843137254902)\n"
     ]
    },
    {
     "data": {
      "image/png": "[encoded data removed]",
      "text/plain": [
       "<Figure size 640x480 with 1 Axes>"
      ]
     },
     "metadata": {},
     "output_type": "display_data"
    }
   ],
   "source": [
    "def main():\n",
    "    pop_size = 100  # 种群大小\n",
    "    generations = 100  # 代数\n",
    "    crossover_rate = 0.8  # 交叉概率\n",
    "    mutation_rate = 0.01  # 变异概率\n",
    "\n",
    "    # 初始化种群\n",
    "    population = init_population(pop_size)\n",
    "\n",
    "    for gen in range(generations):\n",
    "        new_population = []\n",
    "        #计算适应度\n",
    "        fitnesses = [evaluate(ind) for ind in population]\n",
    "        # 计算共享适应度\n",
    "        shared_fitnesses = shared_fitness(population, fitnesses, 0.5)\n",
    "        # 选择操作\n",
    "        sorted_population = [x for _, x in sorted(zip(shared_fitnesses, population))]\n",
    "        new_population = sorted_population[:int(pop_size/2)]  # 保留前半部分适应度高的个体\n",
    "        \n",
    "        # 交叉,变异操作\n",
    "        while len(new_population) < pop_size:\n",
    "            if random.random() < crossover_rate:\n",
    "                parent1, parent2 = random.sample(new_population, 2)\n",
    "                offspring1, offspring2 = crossover(parent1, parent2)\n",
    "                new_population.append(mutate(offspring1, mutation_rate))\n",
    "                new_population.append(mutate(offspring2, mutation_rate))\n",
    "            else:\n",
    "                new_population.append(random.choice(new_population))\n",
    "        \n",
    "        # 更新种群\n",
    "        population = new_population[:pop_size]  \n",
    "\n",
    "         # 获取最终帕累托前沿解\n",
    "    pareto_front = pareto_sort(population)\n",
    "    \n",
    "    # 输出帕累托前沿解并绘制分布图\n",
    "    print(\"\\nFinal Pareto front solutions:\")\n",
    "    for ind in pareto_front:\n",
    "        print(f\"Solution: {ind}, Objectives: {evaluate(ind)}\")\n",
    "\n",
    "    # 绘制帕累托前沿解分布\n",
    "    plot_pareto_front(pareto_front)\n",
    "\n",
    "if __name__ == \"__main__\":\n",
    "    main()"
   ]
  }
 ],
 "metadata": {
  "kernelspec": {
   "display_name": "Python 3",
   "language": "python",
   "name": "python3"
  },
  "language_info": {
   "codemirror_mode": {
    "name": "ipython",
    "version": 3
   },
   "file_extension": ".py",
   "mimetype": "text/x-python",
   "name": "python",
   "nbconvert_exporter": "python",
   "pygments_lexer": "ipython3",
   "version": "3.12.6"
  }
 },
 "nbformat": 4,
 "nbformat_minor": 2
}
