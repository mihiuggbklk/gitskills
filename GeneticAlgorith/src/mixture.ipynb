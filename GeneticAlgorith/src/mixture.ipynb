{
 "cells": [
  {
   "cell_type": "markdown",
   "metadata": {},
   "source": [
    "### 目标\n",
    "$\\min f_1=x_1^2/4$ \\\n",
    "$\\min f_2=x_1(1-x_2)+5$\\\n",
    "s.t. $\\{ 1\\le x_1 \\le 4 $\\, $1\\le x_2 \\le 2$\\\n",
    "$\\{M,T,p_c,p_m \\} = \\{100,100,0.8,0.01  \\} $\n",
    "\n",
    "\t"
   ]
  },
  {
   "cell_type": "markdown",
   "metadata": {},
   "source": [
    "##### 二进制编码与解码"
   ]
  },
  {
   "cell_type": "code",
   "execution_count": 46,
   "metadata": {},
   "outputs": [],
   "source": [
    "import random\n",
    "import numpy as np\n",
    "import matplotlib.pyplot as plt\n",
    "def encode(x, lower_bound, upper_bound, bits=8):\n",
    "    \"\"\"将实数x编码为长度为bits的二进制字符串，范围在[lower_bound, upper_bound]\"\"\"\n",
    "    max_int = 2**bits - 1\n",
    "    int_value = int((x - lower_bound) / (upper_bound - lower_bound) * max_int)\n",
    "    binary_str = format(int_value, f'0{bits}b')\n",
    "    return binary_str\n",
    "def decode(binary_str, lower_bound, upper_bound, bits=8):\n",
    "    \"\"\"将二进制字符串解码为实数\"\"\"\n",
    "    max_int = 2**bits - 1\n",
    "    int_value = int(binary_str, 2)\n",
    "    return lower_bound + (upper_bound - lower_bound) * int_value / max_int"
   ]
  },
  {
   "cell_type": "markdown",
   "metadata": {},
   "source": [
    "##### 评估函数,使用自身函数值"
   ]
  },
  {
   "cell_type": "code",
   "execution_count": 47,
   "metadata": {},
   "outputs": [],
   "source": [
    "def evaluate(individual):\n",
    "    x1_bin, x2_bin = individual[:8], individual[8:]\n",
    "    x1 = decode(x1_bin, 1, 4)  # 解码x1，范围[1, 4]\n",
    "    x2 = decode(x2_bin, 1, 2)  # 解码x2，范围[1, 2]\n",
    "    f1 = (x1 ** 2) / 4  # 目标函数 f1\n",
    "    f2 = x1 * (1 - x2) + 5  # 目标函数 f2\n",
    "    return f1, f2"
   ]
  },
  {
   "cell_type": "markdown",
   "metadata": {},
   "source": [
    "##### 初始化种群"
   ]
  },
  {
   "cell_type": "code",
   "execution_count": 48,
   "metadata": {},
   "outputs": [],
   "source": [
    "def init_population(pop_size):\n",
    "    population = []\n",
    "    for _ in range(pop_size):\n",
    "        x1 = encode(random.uniform(1, 4), 1, 4)  # 随机生成 x1 的二进制编码\n",
    "        x2 = encode(random.uniform(1, 2), 1, 2)  # 随机生成 x2 的二进制编码\n",
    "        individual = x1 + x2  # 将两个二进制串拼接为一个个体\n",
    "        population.append(individual)\n",
    "    return population"
   ]
  },
  {
   "cell_type": "markdown",
   "metadata": {},
   "source": [
    "##### 单点交叉算子"
   ]
  },
  {
   "cell_type": "code",
   "execution_count": 49,
   "metadata": {},
   "outputs": [],
   "source": [
    "def crossover(parent1, parent2):\n",
    "    point = random.randint(1, len(parent1) - 1)  # 随机选择交叉点\n",
    "    child1 = parent1[:point] + parent2[point:]\n",
    "    child2 = parent2[:point] + parent1[point:]\n",
    "    return child1, child2"
   ]
  },
  {
   "cell_type": "markdown",
   "metadata": {},
   "source": [
    "##### 基本位变异算子"
   ]
  },
  {
   "cell_type": "code",
   "execution_count": 50,
   "metadata": {},
   "outputs": [],
   "source": [
    "def mutate(individual, mutation_rate=0.01):\n",
    "    individual = list(individual)  # 将字符串转为列表以便修改\n",
    "    for i in range(len(individual)):\n",
    "        if random.random() < mutation_rate:\n",
    "            # 基本位变异：反转二进制位\n",
    "            individual[i] = '1' if individual[i] == '0' else '0'\n",
    "    return ''.join(individual)"
   ]
  },
  {
   "cell_type": "markdown",
   "metadata": {},
   "source": [
    "##### 随机均分与合并"
   ]
  },
  {
   "cell_type": "code",
   "execution_count": 51,
   "metadata": {},
   "outputs": [],
   "source": [
    "def population_split(full_list, ratio, shuffle=False):\n",
    "    \"\"\"\n",
    "    数据集拆分: 将列表full_list按比例ratio(随机)划分为2个子列表sublist_1与sublist_2\n",
    "    :param full_list: 数据列表\n",
    "    :param ratio:     子列表1\n",
    "    :param shuffle:   子列表2\n",
    "    :return:\n",
    "    \"\"\"\n",
    "    n_total = len(full_list)\n",
    "    offset = int(n_total * ratio)\n",
    "    if n_total == 0 or offset < 1:\n",
    "        return [], full_list\n",
    "    if shuffle:\n",
    "        random.shuffle(full_list)\n",
    "    sublist_1 = full_list[:offset]\n",
    "    sublist_2 = full_list[offset:]\n",
    "\n",
    "    return sublist_1, sublist_2\n",
    "def population_merge(sublist_1, sublist_2):\n",
    "    \"\"\"合并两个子列表\"\"\"\n",
    "    return sublist_1 + sublist_2"
   ]
  },
  {
   "cell_type": "markdown",
   "metadata": {},
   "source": [
    "#####子目标排序"
   ]
  },
  {
   "cell_type": "code",
   "execution_count": 52,
   "metadata": {},
   "outputs": [],
   "source": [
    "def subpareto_sort1(population):  #子目标1排序\n",
    "    subpareto_front1 = []\n",
    "    for i, ind1 in enumerate(population):\n",
    "        dominated = False\n",
    "        for j, ind2 in enumerate(population):\n",
    "            if evaluate(ind2)[0] < evaluate(ind1)[0]:\n",
    "                dominated = True\n",
    "                break\n",
    "        if not dominated:\n",
    "            subpareto_front1.append(ind1)\n",
    "    return subpareto_front1\n",
    "def subpareto_sort2(population):  #子目标2排序\n",
    "    subpareto_front2 = []\n",
    "    for i, ind1 in enumerate(population):\n",
    "        dominated = False\n",
    "        for j, ind2 in enumerate(population):\n",
    "            if evaluate(ind2)[1] < evaluate(ind1)[1]:\n",
    "                dominated = True\n",
    "                break\n",
    "        if not dominated:\n",
    "            subpareto_front2.append(ind1)\n",
    "    return subpareto_front2\n"
   ]
  },
  {
   "cell_type": "markdown",
   "metadata": {},
   "source": [
    "##### Pareto支配判定"
   ]
  },
  {
   "cell_type": "code",
   "execution_count": 53,
   "metadata": {},
   "outputs": [],
   "source": [
    "def dominates(ind1, ind2): # 判断ind1是否优于ind2\n",
    "    f1_1, f1_2 = evaluate(ind1)\n",
    "    f2_1, f2_2 = evaluate(ind2)\n",
    "    return (f1_1 <= f2_1 and f1_2 <= f2_2) and (f1_1 < f2_1 or f1_2 < f2_2)"
   ]
  },
  {
   "cell_type": "markdown",
   "metadata": {},
   "source": [
    "##### Pareto排序"
   ]
  },
  {
   "cell_type": "code",
   "execution_count": 54,
   "metadata": {},
   "outputs": [],
   "source": [
    "def pareto_sort(population):\n",
    "    pareto_front = []\n",
    "    for i, ind1 in enumerate(population):\n",
    "        dominated = False\n",
    "        for j, ind2 in enumerate(population):\n",
    "            if dominates(ind2, ind1):\n",
    "                dominated = True\n",
    "                break\n",
    "        if not dominated:\n",
    "            pareto_front.append(ind1)\n",
    "    return pareto_front\n"
   ]
  },
  {
   "cell_type": "markdown",
   "metadata": {},
   "source": [
    "##### 轮盘赌基于Pareto排序的个体选择"
   ]
  },
  {
   "cell_type": "code",
   "execution_count": 55,
   "metadata": {},
   "outputs": [],
   "source": [
    "def select1(population, num_to_select):  #子目标1选择\n",
    "    selected1 = []\n",
    "    subpareto_front1 = subpareto_sort1(population)\n",
    "    while len(selected1) < num_to_select:\n",
    "        selected1.append(random.choice(subpareto_front1))\n",
    "    return selected1\n",
    "def select2(population, num_to_select):  #子目标2选择\n",
    "    selected2 = []\n",
    "    subpareto_front2 = subpareto_sort2(population)\n",
    "    while len(selected2) < num_to_select:\n",
    "        selected2.append(random.choice(subpareto_front2))\n",
    "    return selected2"
   ]
  },
  {
   "cell_type": "markdown",
   "metadata": {},
   "source": [
    "##### Pareto Individuals"
   ]
  },
  {
   "cell_type": "code",
   "execution_count": 56,
   "metadata": {},
   "outputs": [],
   "source": [
    "def pareto_individuals(population):\n",
    "    pareto_individuals_front = []\n",
    "    while len(population) > 0:\n",
    "        pareto_front = pareto_sort(population)\n",
    "        pareto_individuals_front.extend(pareto_front)\n",
    "        population = [ind for ind in population if ind not in pareto_front]\n",
    "    return pareto_individuals_front\n"
   ]
  },
  {
   "cell_type": "markdown",
   "metadata": {},
   "source": [
    "##### Tournament Sharing Selection"
   ]
  },
  {
   "cell_type": "code",
   "execution_count": 57,
   "metadata": {},
   "outputs": [],
   "source": [
    "def sharing_function(distance, sigma_share):\n",
    "    alpha = 1  # 通常取值为1\n",
    "    if distance < sigma_share:\n",
    "        return 1 - (distance / sigma_share)**alpha\n",
    "    else:\n",
    "        return 0\n",
    "#海明距离\n",
    "def distance(bin_str1,bin_str2 ):\n",
    "    count=0\n",
    "    for i in range(len(bin_str1)):\n",
    "        if bin_str1[i]!=bin_str2[i]:\n",
    "            count+=1\n",
    "    return count\n",
    "# 小生境数\n",
    "def NicheCount(individual, population, sigma_share):\n",
    "    return sum(sharing_function(distance(individual, ind), sigma_share) for ind in population)\n",
    "    \n",
    "  \n",
    "# Tournament Sharing Selection\n",
    "def ts_selection(population,tournament_size,sigma_share):\n",
    "    # 从群体中选择k个体进行锦标赛\n",
    "  C = random.sample(population, tournament_size)\n",
    "  # 从群体中选择2个体组成T\n",
    "  T = random.sample(population, 2)\n",
    "  # 选择适应度最高的个体\n",
    "  dominated1= False\n",
    "  dominated2 = False\n",
    "  for i in range(tournament_size):\n",
    "    if dominates(T[0], C[i]):\n",
    "      dominated1 = True\n",
    "      break\n",
    "  for i in range(tournament_size):\n",
    "    if dominates(T[1], C[i]):\n",
    "      dominated2 = True\n",
    "      break\n",
    "\n",
    "  if dominated1 and (not dominated2):\n",
    "    return T[1]\n",
    "  elif (not dominated1) and dominated2:\n",
    "    return T[0]\n",
    "  else:\n",
    "    if NicheCount(T[0], population, sigma_share) < NicheCount(T[1], population, sigma_share):\n",
    "      return T[0]\n",
    "    else:\n",
    "      return T[1]\n",
    "\n",
    "    \n",
    "  \n",
    "  \n",
    "\n",
    "\n",
    "\n"
   ]
  },
  {
   "cell_type": "markdown",
   "metadata": {},
   "source": [
    "##### 轮盘赌选择基于Pareto排序的个体"
   ]
  },
  {
   "cell_type": "code",
   "execution_count": 58,
   "metadata": {},
   "outputs": [],
   "source": [
    "def select(population, num_to_select):\n",
    "    selected = []\n",
    "    pareto_front = pareto_sort(population)\n",
    "    while len(selected) < num_to_select:\n",
    "        selected.append(random.choice(pareto_front))\n",
    "    return selected\n"
   ]
  },
  {
   "cell_type": "markdown",
   "metadata": {},
   "source": [
    "##### 可视化Pareto前沿解"
   ]
  },
  {
   "cell_type": "code",
   "execution_count": 59,
   "metadata": {},
   "outputs": [],
   "source": [
    "def plot_pareto_front(pareto_front):\n",
    "    f1_vals, f2_vals = [], []\n",
    "    for ind in pareto_front:\n",
    "        f1, f2 = evaluate(ind)\n",
    "        f1_vals.append(f1)\n",
    "        f2_vals.append(f2)\n",
    "\n",
    "    plt.scatter(f1_vals, f2_vals, color='blue', label='Pareto front')\n",
    "    plt.title('mixture Pareto front')\n",
    "    plt.xlim(0, 5)\n",
    "    plt.ylim(0, 5)\n",
    "    plt.xlabel('f1')\n",
    "    plt.ylabel('f2')\n",
    "    plt.legend()\n",
    "    plt.grid(True)\n",
    "    plt.savefig('mixture.eps', format='eps')\n",
    "    plt.show()"
   ]
  },
  {
   "cell_type": "markdown",
   "metadata": {},
   "source": [
    "##### 主算法"
   ]
  },
  {
   "cell_type": "code",
   "execution_count": 60,
   "metadata": {},
   "outputs": [
    {
     "name": "stderr",
     "output_type": "stream",
     "text": [
      "The PostScript backend does not support transparency; partially transparent artists will be rendered opaque.\n"
     ]
    },
    {
     "name": "stdout",
     "output_type": "stream",
     "text": [
      "\n",
      "Final Pareto front solutions:\n",
      "Solution: 1111111111111111, Objectives: (4.0, 1.0)\n",
      "Solution: 1111111111111111, Objectives: (4.0, 1.0)\n",
      "Solution: 1111111111111111, Objectives: (4.0, 1.0)\n",
      "Solution: 1111111111111111, Objectives: (4.0, 1.0)\n",
      "Solution: 1111111111111111, Objectives: (4.0, 1.0)\n",
      "Solution: 1111111111111111, Objectives: (4.0, 1.0)\n",
      "Solution: 1111111111111111, Objectives: (4.0, 1.0)\n",
      "Solution: 1011111111111111, Objectives: (2.635847750865052, 1.7529411764705882)\n",
      "Solution: 1111111111111111, Objectives: (4.0, 1.0)\n",
      "Solution: 0000000001000000, Objectives: (0.25, 4.749019607843137)\n",
      "Solution: 1111111111111111, Objectives: (4.0, 1.0)\n",
      "Solution: 1111111111111111, Objectives: (4.0, 1.0)\n",
      "Solution: 1111111111111111, Objectives: (4.0, 1.0)\n",
      "Solution: 1111111111111111, Objectives: (4.0, 1.0)\n",
      "Solution: 1111111111111111, Objectives: (4.0, 1.0)\n",
      "Solution: 1111111111111111, Objectives: (4.0, 1.0)\n",
      "Solution: 1111111111111111, Objectives: (4.0, 1.0)\n",
      "Solution: 0111111111111111, Objectives: (1.5551557093425605, 2.5058823529411764)\n",
      "Solution: 1111111111111111, Objectives: (4.0, 1.0)\n",
      "Solution: 1111111111111111, Objectives: (4.0, 1.0)\n",
      "Solution: 1111111111111111, Objectives: (4.0, 1.0)\n",
      "Solution: 1111111111111111, Objectives: (4.0, 1.0)\n",
      "Solution: 1111111111111111, Objectives: (4.0, 1.0)\n",
      "Solution: 1111111111111111, Objectives: (4.0, 1.0)\n",
      "Solution: 1111111111111111, Objectives: (4.0, 1.0)\n",
      "Solution: 1111111111111111, Objectives: (4.0, 1.0)\n",
      "Solution: 1111111011111111, Objectives: (3.9765051903114186, 1.011764705882353)\n",
      "Solution: 1111011111111111, Objectives: (3.813979238754325, 1.0941176470588236)\n",
      "Solution: 1111111111111111, Objectives: (4.0, 1.0)\n",
      "Solution: 1111111111111111, Objectives: (4.0, 1.0)\n",
      "Solution: 1111111111111111, Objectives: (4.0, 1.0)\n",
      "Solution: 1111111111111111, Objectives: (4.0, 1.0)\n"
     ]
    },
    {
     "data": {
      "image/png": "[encoded data removed]",
      "text/plain": [
       "<Figure size 640x480 with 1 Axes>"
      ]
     },
     "metadata": {},
     "output_type": "display_data"
    }
   ],
   "source": [
    "def main():\n",
    "    pop_size = 100  # 种群大小\n",
    "    generations = 100  # 代数\n",
    "    crossover_rate = 0.8  # 交叉概率\n",
    "    mutation_rate = 0.01  # 变异概率\n",
    "\n",
    "    # 初始化种群\n",
    "    population = init_population(pop_size)\n",
    "\n",
    "    for gen in range(generations):\n",
    "        new_population = []\n",
    "    # 并列选择过程\n",
    "        population1,population2=population_split(population,0.5,shuffle=True)\n",
    "        selected1 = select1(population1, 40)\n",
    "        selected2 = select2(population2, 40)\n",
    "        selected = selected1 + selected2\n",
    "\n",
    "        # 交叉操作\n",
    "        for i in range(0, 80, 2):\n",
    "            if random.random() < crossover_rate:\n",
    "                parent1, parent2 = selected[i], selected[i+1]\n",
    "                child1, child2 = crossover(parent1, parent2)\n",
    "                new_population.extend([child1, child2])\n",
    "            else:\n",
    "                new_population.extend([selected[i], selected[i+1]])\n",
    "\n",
    "        \n",
    "    #保留Pareto最优个体过程\n",
    "        new_population.extend(subpareto_sort1(selected1))\n",
    "        new_population.extend(subpareto_sort2(selected2))\n",
    "    #共享函数处理过程\n",
    "        if len(new_population)>pop_size:\n",
    "            new_population_ = []\n",
    "            for i in range(pop_size):\n",
    "                new_population_.append(ts_selection(new_population,2,0.8))\n",
    "            new_population = new_population_\n",
    "            \n",
    "\n",
    "    # 变异操作\n",
    "        for i in range(len(new_population)):\n",
    "            new_population[i] = mutate(new_population[i], mutation_rate)\n",
    "        # 更新种群\n",
    "        population = new_population\n",
    "\n",
    "         # 获取最终帕累托前沿解\n",
    "    pareto_front = pareto_sort(population)\n",
    "    \n",
    "    # 输出帕累托前沿解并绘制分布图\n",
    "    print(\"\\nFinal Pareto front solutions:\")\n",
    "    for ind in pareto_front:\n",
    "        print(f\"Solution: {ind}, Objectives: {evaluate(ind)}\")\n",
    "\n",
    "    # 绘制帕累托前沿解分布\n",
    "    plot_pareto_front(pareto_front)\n",
    "\n",
    "if __name__ == \"__main__\":\n",
    "    main()"
   ]
  }
 ],
 "metadata": {
  "kernelspec": {
   "display_name": "Python 3",
   "language": "python",
   "name": "python3"
  },
  "language_info": {
   "codemirror_mode": {
    "name": "ipython",
    "version": 3
   },
   "file_extension": ".py",
   "mimetype": "text/x-python",
   "name": "python",
   "nbconvert_exporter": "python",
   "pygments_lexer": "ipython3",
   "version": "3.12.6"
  }
 },
 "nbformat": 4,
 "nbformat_minor": 2
}
